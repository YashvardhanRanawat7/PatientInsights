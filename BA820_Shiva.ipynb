{
 "cells": [
  {
   "cell_type": "markdown",
   "metadata": {
    "id": "ai65wyi-6EK6"
   },
   "source": [
    "# PatientInsights : Advancing Patient Care through Enhanced Digital Record Analytics\n",
    "\n",
    "## BA820 Final Project\n",
    "\n",
    "#### Group 14 - Jishnu Moorty , Shivakumar Vinod Pillai , Yashvardhan Singh Ranawat"
   ]
  },
  {
   "cell_type": "markdown",
   "metadata": {},
   "source": [
    "## Project Overview\n",
    "\n",
    "### Problem Statement \n",
    "An estimated 80% of healthcare data is unstructured. The most common sources being clinical notes containing discharge summaries, lab reports , progress notes etc. Translating this data in a structured manner poses a unique challenge due to its inconsistent nature. The same concept can be articulated in numerous ways across different organizations and fields of specialty. Having a complete picture of this information at hand can lead to better care for patients and NLP combined with unsupervised learning can unlock the valuable insights trapped in unstructured data.\n",
    "\n",
    "\n",
    "### Dataset & Data Source \n",
    "Medical Information Mart for Intensive Care (MIMIC-III) Clinical Database. Please find the [link](https://mimic.mit.edu/docs/iii/) here.\n",
    "\n",
    "### Business Relevance \n",
    "- Risk Assessment: Streamlining manual workflows by identifying clinical concepts that indicate complicated conditions, to accurately characterize a patient’s risk \n",
    "- Quality Reporting : Converting unstructured data to provide a more accurate picture of a patient's health status while identifying gaps in care or documentation recorded. .\n",
    "- Clinical Decision Support: Clustering can assist in helping providers make informed decisions through comparing similar cases and their outcomes. \n",
    "- Research and Knowledge Discovery: Researchers can uncover new associations and risk factors by analyzing clusters of patients with similar characteristics.\n"
   ]
  },
  {
   "cell_type": "markdown",
   "metadata": {},
   "source": [
    "### Data Dictionary "
   ]
  },
  {
   "cell_type": "markdown",
   "metadata": {},
   "source": [
    "### Importing All Libraries"
   ]
  },
  {
   "cell_type": "code",
   "execution_count": 1,
   "metadata": {
    "tags": []
   },
   "outputs": [],
   "source": [
    "import re\n",
    "from nltk.corpus import  stopwords\n",
    "import spacy\n",
    "import nltk\n",
    "nltk.download('stopwords')"
   ]
  },
  {
   "cell_type": "markdown",
   "metadata": {},
   "source": [
    "### Connecting to BigQuery"
   ]
  },
  {
   "cell_type": "code",
   "execution_count": 2,
   "metadata": {
    "tags": []
   },
   "outputs": [],
   "source": [
    "from google.cloud import bigquery\n",
    "\n",
    "client = bigquery.Client()"
   ]
  },
  {
   "cell_type": "markdown",
   "metadata": {},
   "source": [
    "### Loading Data\n",
    "\n",
    "This dataset was accesible through bigquery, Since only one member was provided access to use this data, we moved the tables to our own project's dataset. Original dataset is called 'physionet-data' on bigquery"
   ]
  },
  {
   "cell_type": "markdown",
   "metadata": {},
   "source": [
    "### Note events Table \n",
    "\n",
    "##### Notes associated with hospital stays.\n",
    "\n",
    "| Column      | Type      | Definition                                                                                   |\n",
    "|-------------|-----------|----------------------------------------------------------------------------------------------|\n",
    "| row_id      | int4      | Unique row identifier.                                                                       |\n",
    "| subject_id  | int4      | Foreign key. Identifies the patient.                                                         |\n",
    "| hadm_id     | int4      | Foreign key. Identifies the hospital stay.                                                   |\n",
    "| chartdate   | timestamp | Date when the note was charted.                                                              |\n",
    "| charttime   | timestamp | Date and time when the note was charted. Notes without a time have NULL in this column.      |\n",
    "| storetime   | timestamp |                                                                                              |\n",
    "| category    | varchar   | Category of the note, e.g., Discharge summary.                                               |\n",
    "| description | varchar   | A more detailed categorization for the note, sometimes entered by free-text.                 |\n",
    "| cgid        | int4      | Foreign key. Identifies the caregiver.                                                       |\n",
    "| iserror     | bpchar    | Flag to highlight an error with the note.                                                    |\n",
    "| text        | text      | Content of the note.                                                                         |\n",
    "\n"
   ]
  },
  {
   "cell_type": "code",
   "execution_count": 3,
   "metadata": {
    "tags": []
   },
   "outputs": [
    {
     "data": {
      "text/html": [
       "<div>\n",
       "<style scoped>\n",
       "    .dataframe tbody tr th:only-of-type {\n",
       "        vertical-align: middle;\n",
       "    }\n",
       "\n",
       "    .dataframe tbody tr th {\n",
       "        vertical-align: top;\n",
       "    }\n",
       "\n",
       "    .dataframe thead th {\n",
       "        text-align: right;\n",
       "    }\n",
       "</style>\n",
       "<table border=\"1\" class=\"dataframe\">\n",
       "  <thead>\n",
       "    <tr style=\"text-align: right;\">\n",
       "      <th></th>\n",
       "      <th>ROW_ID</th>\n",
       "      <th>SUBJECT_ID</th>\n",
       "      <th>HADM_ID</th>\n",
       "      <th>CHARTDATE</th>\n",
       "      <th>CHARTTIME</th>\n",
       "      <th>STORETIME</th>\n",
       "      <th>CATEGORY</th>\n",
       "      <th>DESCRIPTION</th>\n",
       "      <th>CGID</th>\n",
       "      <th>ISERROR</th>\n",
       "      <th>TEXT</th>\n",
       "    </tr>\n",
       "  </thead>\n",
       "  <tbody>\n",
       "    <tr>\n",
       "      <th>0</th>\n",
       "      <td>460342</td>\n",
       "      <td>63621</td>\n",
       "      <td>124508</td>\n",
       "      <td>2134-06-23</td>\n",
       "      <td>2134-06-23 12:18:00</td>\n",
       "      <td>2134-06-23 12:18:24</td>\n",
       "      <td>Nutrition</td>\n",
       "      <td>Clinical Nutrition Note</td>\n",
       "      <td>19139</td>\n",
       "      <td>&lt;NA&gt;</td>\n",
       "      <td>Subjective Per patient , no bloating or abd di...</td>\n",
       "    </tr>\n",
       "    <tr>\n",
       "      <th>1</th>\n",
       "      <td>334680</td>\n",
       "      <td>30198</td>\n",
       "      <td>147913</td>\n",
       "      <td>2131-07-12</td>\n",
       "      <td>2131-07-12 09:01:00</td>\n",
       "      <td>2131-07-12 09:01:15</td>\n",
       "      <td>Nutrition</td>\n",
       "      <td>Clinical Nutrition Note</td>\n",
       "      <td>20157</td>\n",
       "      <td>&lt;NA&gt;</td>\n",
       "      <td>Potential for nutrition risk. Patient being mo...</td>\n",
       "    </tr>\n",
       "  </tbody>\n",
       "</table>\n",
       "</div>"
      ],
      "text/plain": [
       "   ROW_ID  SUBJECT_ID  HADM_ID   CHARTDATE           CHARTTIME  \\\n",
       "0  460342       63621   124508  2134-06-23 2134-06-23 12:18:00   \n",
       "1  334680       30198   147913  2131-07-12 2131-07-12 09:01:00   \n",
       "\n",
       "            STORETIME   CATEGORY              DESCRIPTION   CGID  ISERROR  \\\n",
       "0 2134-06-23 12:18:24  Nutrition  Clinical Nutrition Note  19139     <NA>   \n",
       "1 2131-07-12 09:01:15  Nutrition  Clinical Nutrition Note  20157     <NA>   \n",
       "\n",
       "                                                TEXT  \n",
       "0  Subjective Per patient , no bloating or abd di...  \n",
       "1  Potential for nutrition risk. Patient being mo...  "
      ]
     },
     "execution_count": 3,
     "metadata": {},
     "output_type": "execute_result"
    }
   ],
   "source": [
    "noteevents_query = ('''SELECT *\n",
    "                FROM `ba820-unsup-ml.mimic3.noteevents`''')\n",
    "\n",
    "noteevents_data = client.query(noteevents_query).to_dataframe()\n",
    "\n",
    "noteevents_data.head(2)"
   ]
  },
  {
   "cell_type": "markdown",
   "metadata": {},
   "source": [
    "### Patients Data\n",
    "\n",
    "##### Patients associated with an admission to the ICU.\n",
    "\n",
    "| Column      | Type       | Definition                                                                                   |\n",
    "|-------------|------------|----------------------------------------------------------------------------------------------|\n",
    "| row_id      | int4       | Unique row identifier.                                                                       |\n",
    "| subject_id  | int4       | Primary key. Identifies the patient.                                                         |\n",
    "| gender      | varchar    | Gender.                                                                                      |\n",
    "| dob         | timestamp  | Date of birth.                                                                               |\n",
    "| dod         | timestamp  | Date of death. Null if the patient was alive at least 90 days post hospital discharge.       |\n",
    "| dod_hosp    | timestamp  | Date of death recorded in the hospital records.                                              |\n",
    "| dod_ssn     | timestamp  | Date of death recorded in the social security records.                                       |\n",
    "| expire_flag | int4       | Flag indicating that the patient has died.                                                   |"
   ]
  },
  {
   "cell_type": "code",
   "execution_count": 4,
   "metadata": {},
   "outputs": [
    {
     "data": {
      "text/html": [
       "<div>\n",
       "<style scoped>\n",
       "    .dataframe tbody tr th:only-of-type {\n",
       "        vertical-align: middle;\n",
       "    }\n",
       "\n",
       "    .dataframe tbody tr th {\n",
       "        vertical-align: top;\n",
       "    }\n",
       "\n",
       "    .dataframe thead th {\n",
       "        text-align: right;\n",
       "    }\n",
       "</style>\n",
       "<table border=\"1\" class=\"dataframe\">\n",
       "  <thead>\n",
       "    <tr style=\"text-align: right;\">\n",
       "      <th></th>\n",
       "      <th>ROW_ID</th>\n",
       "      <th>SUBJECT_ID</th>\n",
       "      <th>GENDER</th>\n",
       "      <th>DOB</th>\n",
       "      <th>DOD</th>\n",
       "      <th>DOD_HOSP</th>\n",
       "      <th>DOD_SSN</th>\n",
       "      <th>EXPIRE_FLAG</th>\n",
       "    </tr>\n",
       "  </thead>\n",
       "  <tbody>\n",
       "    <tr>\n",
       "      <th>0</th>\n",
       "      <td>46038</td>\n",
       "      <td>98139</td>\n",
       "      <td>F</td>\n",
       "      <td>2035-02-19</td>\n",
       "      <td>2116-05-24</td>\n",
       "      <td>2116-05-24</td>\n",
       "      <td>2116-05-24</td>\n",
       "      <td>1</td>\n",
       "    </tr>\n",
       "    <tr>\n",
       "      <th>1</th>\n",
       "      <td>156</td>\n",
       "      <td>166</td>\n",
       "      <td>F</td>\n",
       "      <td>1805-01-23</td>\n",
       "      <td>2105-01-24</td>\n",
       "      <td>2105-01-24</td>\n",
       "      <td>2105-01-24</td>\n",
       "      <td>1</td>\n",
       "    </tr>\n",
       "  </tbody>\n",
       "</table>\n",
       "</div>"
      ],
      "text/plain": [
       "   ROW_ID  SUBJECT_ID GENDER        DOB        DOD   DOD_HOSP    DOD_SSN  \\\n",
       "0   46038       98139      F 2035-02-19 2116-05-24 2116-05-24 2116-05-24   \n",
       "1     156         166      F 1805-01-23 2105-01-24 2105-01-24 2105-01-24   \n",
       "\n",
       "   EXPIRE_FLAG  \n",
       "0            1  \n",
       "1            1  "
      ]
     },
     "execution_count": 4,
     "metadata": {},
     "output_type": "execute_result"
    }
   ],
   "source": [
    "patient_query = ('''SELECT *\n",
    "                FROM `ba820-unsup-ml.mimic3.patients`''')\n",
    "\n",
    "patient_data = client.query(patient_query).to_dataframe()\n",
    "\n",
    "patient_data.head(2)"
   ]
  },
  {
   "cell_type": "markdown",
   "metadata": {},
   "source": [
    "### Admissions Data\n",
    "\n",
    "##### Hospital admissions associated with an ICU stay.\n",
    "\n",
    "| Column               | Type      | Definition                                                                                   |\n",
    "|----------------------|-----------|----------------------------------------------------------------------------------------------|\n",
    "| row_id               | int4      | Unique row identifier.                                                                       |\n",
    "| subject_id           | int4      | Foreign key. Identifies the patient.                                                         |\n",
    "| hadm_id              | int4      | Primary key. Identifies the hospital stay.                                                   |\n",
    "| admittime            | timestamp | Time of admission to the hospital.                                                           |\n",
    "| dischtime            | timestamp | Time of discharge from the hospital.                                                         |\n",
    "| deathtime            | timestamp | Time of death.                                                                               |\n",
    "| admission_type       | varchar   | Type of admission, for example emergency or elective.                                        |\n",
    "| admission_location   | varchar   | Admission location.                                                                          |\n",
    "| discharge_location   | varchar   | Discharge location                                                                           |\n",
    "| insurance            | varchar   | Insurance type.                                                                              |\n",
    "| language             | varchar   | Language.                                                                                    |\n",
    "| religion             | varchar   | Religion.                                                                                    |\n",
    "| marital_status       | varchar   | Marital status.                                                                              |\n",
    "| ethnicity            | varchar   | Ethnicity.                                                                                   |\n",
    "| edregtime            | timestamp |                                                                                              |\n",
    "| edouttime            | timestamp |                                                                                              |\n",
    "| diagnosis            | varchar   | Diagnosis.                                                                                   |\n",
    "| hospital_expire_flag | int2      |                                                                                              |\n",
    "| has_chartevents_data | int2      | Hospital admission has at least one observation in the CHARTEVENTS table.                    |\n"
   ]
  },
  {
   "cell_type": "code",
   "execution_count": 5,
   "metadata": {
    "tags": []
   },
   "outputs": [
    {
     "data": {
      "text/html": [
       "<div>\n",
       "<style scoped>\n",
       "    .dataframe tbody tr th:only-of-type {\n",
       "        vertical-align: middle;\n",
       "    }\n",
       "\n",
       "    .dataframe tbody tr th {\n",
       "        vertical-align: top;\n",
       "    }\n",
       "\n",
       "    .dataframe thead th {\n",
       "        text-align: right;\n",
       "    }\n",
       "</style>\n",
       "<table border=\"1\" class=\"dataframe\">\n",
       "  <thead>\n",
       "    <tr style=\"text-align: right;\">\n",
       "      <th></th>\n",
       "      <th>ROW_ID</th>\n",
       "      <th>SUBJECT_ID</th>\n",
       "      <th>HADM_ID</th>\n",
       "      <th>ADMITTIME</th>\n",
       "      <th>DISCHTIME</th>\n",
       "      <th>DEATHTIME</th>\n",
       "      <th>ADMISSION_TYPE</th>\n",
       "      <th>ADMISSION_LOCATION</th>\n",
       "      <th>DISCHARGE_LOCATION</th>\n",
       "      <th>INSURANCE</th>\n",
       "      <th>LANGUAGE</th>\n",
       "      <th>RELIGION</th>\n",
       "      <th>MARITAL_STATUS</th>\n",
       "      <th>ETHNICITY</th>\n",
       "      <th>EDREGTIME</th>\n",
       "      <th>EDOUTTIME</th>\n",
       "      <th>DIAGNOSIS</th>\n",
       "      <th>HOSPITAL_EXPIRE_FLAG</th>\n",
       "      <th>HAS_CHARTEVENTS_DATA</th>\n",
       "    </tr>\n",
       "  </thead>\n",
       "  <tbody>\n",
       "    <tr>\n",
       "      <th>0</th>\n",
       "      <td>40230</td>\n",
       "      <td>41420</td>\n",
       "      <td>143206</td>\n",
       "      <td>2147-01-06 16:57:00</td>\n",
       "      <td>2147-01-08 18:30:00</td>\n",
       "      <td>NaT</td>\n",
       "      <td>EMERGENCY</td>\n",
       "      <td>EMERGENCY ROOM ADMIT</td>\n",
       "      <td>ICF</td>\n",
       "      <td>Medicare</td>\n",
       "      <td>ENGL</td>\n",
       "      <td>JEWISH</td>\n",
       "      <td>WIDOWED</td>\n",
       "      <td>WHITE</td>\n",
       "      <td>2147-01-06 13:30:00</td>\n",
       "      <td>2147-01-06 17:36:00</td>\n",
       "      <td>ACUTE SUBDURAL HEMATOMA</td>\n",
       "      <td>0</td>\n",
       "      <td>1</td>\n",
       "    </tr>\n",
       "    <tr>\n",
       "      <th>1</th>\n",
       "      <td>45890</td>\n",
       "      <td>58899</td>\n",
       "      <td>177890</td>\n",
       "      <td>2102-04-04 08:12:00</td>\n",
       "      <td>2102-04-10 16:00:00</td>\n",
       "      <td>NaT</td>\n",
       "      <td>EMERGENCY</td>\n",
       "      <td>EMERGENCY ROOM ADMIT</td>\n",
       "      <td>ICF</td>\n",
       "      <td>Medicare</td>\n",
       "      <td>ENGL</td>\n",
       "      <td>NOT SPECIFIED</td>\n",
       "      <td>SINGLE</td>\n",
       "      <td>WHITE</td>\n",
       "      <td>2102-04-04 06:46:00</td>\n",
       "      <td>2102-04-04 08:33:00</td>\n",
       "      <td>THREATENED LEFT LOWER EXTREMITY</td>\n",
       "      <td>0</td>\n",
       "      <td>1</td>\n",
       "    </tr>\n",
       "  </tbody>\n",
       "</table>\n",
       "</div>"
      ],
      "text/plain": [
       "   ROW_ID  SUBJECT_ID  HADM_ID           ADMITTIME           DISCHTIME  \\\n",
       "0   40230       41420   143206 2147-01-06 16:57:00 2147-01-08 18:30:00   \n",
       "1   45890       58899   177890 2102-04-04 08:12:00 2102-04-10 16:00:00   \n",
       "\n",
       "  DEATHTIME ADMISSION_TYPE    ADMISSION_LOCATION DISCHARGE_LOCATION INSURANCE  \\\n",
       "0       NaT      EMERGENCY  EMERGENCY ROOM ADMIT                ICF  Medicare   \n",
       "1       NaT      EMERGENCY  EMERGENCY ROOM ADMIT                ICF  Medicare   \n",
       "\n",
       "  LANGUAGE       RELIGION MARITAL_STATUS ETHNICITY           EDREGTIME  \\\n",
       "0     ENGL         JEWISH        WIDOWED     WHITE 2147-01-06 13:30:00   \n",
       "1     ENGL  NOT SPECIFIED         SINGLE     WHITE 2102-04-04 06:46:00   \n",
       "\n",
       "            EDOUTTIME                        DIAGNOSIS  HOSPITAL_EXPIRE_FLAG  \\\n",
       "0 2147-01-06 17:36:00          ACUTE SUBDURAL HEMATOMA                     0   \n",
       "1 2102-04-04 08:33:00  THREATENED LEFT LOWER EXTREMITY                     0   \n",
       "\n",
       "   HAS_CHARTEVENTS_DATA  \n",
       "0                     1  \n",
       "1                     1  "
      ]
     },
     "execution_count": 5,
     "metadata": {},
     "output_type": "execute_result"
    }
   ],
   "source": [
    "admissions_query = ('''SELECT *\n",
    "                FROM `ba820-unsup-ml.mimic3.admissions`''')\n",
    "\n",
    "admissions_data = client.query(admissions_query).to_dataframe()\n",
    "\n",
    "admissions_data.head(2)"
   ]
  },
  {
   "cell_type": "code",
   "execution_count": 6,
   "metadata": {
    "tags": []
   },
   "outputs": [
    {
     "name": "stdout",
     "output_type": "stream",
     "text": [
      "<class 'pandas.core.frame.DataFrame'>\n",
      "RangeIndex: 2083180 entries, 0 to 2083179\n",
      "Data columns (total 11 columns):\n",
      " #   Column       Dtype         \n",
      "---  ------       -----         \n",
      " 0   ROW_ID       Int64         \n",
      " 1   SUBJECT_ID   Int64         \n",
      " 2   HADM_ID      Int64         \n",
      " 3   CHARTDATE    dbdate        \n",
      " 4   CHARTTIME    datetime64[us]\n",
      " 5   STORETIME    datetime64[us]\n",
      " 6   CATEGORY     object        \n",
      " 7   DESCRIPTION  object        \n",
      " 8   CGID         Int64         \n",
      " 9   ISERROR      Int64         \n",
      " 10  TEXT         object        \n",
      "dtypes: Int64(5), datetime64[us](2), dbdate(1), object(3)\n",
      "memory usage: 184.8+ MB\n"
     ]
    }
   ],
   "source": [
    "noteevents_data.info()"
   ]
  },
  {
   "cell_type": "markdown",
   "metadata": {},
   "source": [
    "### EDA"
   ]
  },
  {
   "cell_type": "markdown",
   "metadata": {},
   "source": [
    "### Pre-processing Text Data\n",
    "\n",
    "##### Removing Punctuations"
   ]
  },
  {
   "cell_type": "code",
   "execution_count": 7,
   "metadata": {
    "tags": []
   },
   "outputs": [
    {
     "data": {
      "text/html": [
       "<div>\n",
       "<style scoped>\n",
       "    .dataframe tbody tr th:only-of-type {\n",
       "        vertical-align: middle;\n",
       "    }\n",
       "\n",
       "    .dataframe tbody tr th {\n",
       "        vertical-align: top;\n",
       "    }\n",
       "\n",
       "    .dataframe thead th {\n",
       "        text-align: right;\n",
       "    }\n",
       "</style>\n",
       "<table border=\"1\" class=\"dataframe\">\n",
       "  <thead>\n",
       "    <tr style=\"text-align: right;\">\n",
       "      <th></th>\n",
       "      <th>TEXT</th>\n",
       "      <th>text_cleaned</th>\n",
       "    </tr>\n",
       "  </thead>\n",
       "  <tbody>\n",
       "    <tr>\n",
       "      <th>0</th>\n",
       "      <td>Subjective Per patient , no bloating or abd di...</td>\n",
       "      <td>Subjective Per patient  no bloating or abd dis...</td>\n",
       "    </tr>\n",
       "    <tr>\n",
       "      <th>1</th>\n",
       "      <td>Potential for nutrition risk. Patient being mo...</td>\n",
       "      <td>Potential for nutrition risk Patient being mon...</td>\n",
       "    </tr>\n",
       "  </tbody>\n",
       "</table>\n",
       "</div>"
      ],
      "text/plain": [
       "                                                TEXT  \\\n",
       "0  Subjective Per patient , no bloating or abd di...   \n",
       "1  Potential for nutrition risk. Patient being mo...   \n",
       "\n",
       "                                        text_cleaned  \n",
       "0  Subjective Per patient  no bloating or abd dis...  \n",
       "1  Potential for nutrition risk Patient being mon...  "
      ]
     },
     "execution_count": 7,
     "metadata": {},
     "output_type": "execute_result"
    }
   ],
   "source": [
    "def remove_punc(column):\n",
    "    punc_pattern = r'[^\\w\\s]'\n",
    "    column = re.sub(punc_pattern,\"\", column)\n",
    "    return column\n",
    "    \n",
    "\n",
    "noteevents_data['text_cleaned'] = noteevents_data['TEXT'].apply(remove_punc)\n",
    "\n",
    "noteevents_data[['TEXT','text_cleaned']].head(2)"
   ]
  },
  {
   "cell_type": "code",
   "execution_count": 8,
   "metadata": {
    "tags": []
   },
   "outputs": [
    {
     "data": {
      "text/html": [
       "<div>\n",
       "<style scoped>\n",
       "    .dataframe tbody tr th:only-of-type {\n",
       "        vertical-align: middle;\n",
       "    }\n",
       "\n",
       "    .dataframe tbody tr th {\n",
       "        vertical-align: top;\n",
       "    }\n",
       "\n",
       "    .dataframe thead th {\n",
       "        text-align: right;\n",
       "    }\n",
       "</style>\n",
       "<table border=\"1\" class=\"dataframe\">\n",
       "  <thead>\n",
       "    <tr style=\"text-align: right;\">\n",
       "      <th></th>\n",
       "      <th>TEXT</th>\n",
       "      <th>text_cleaned</th>\n",
       "    </tr>\n",
       "  </thead>\n",
       "  <tbody>\n",
       "    <tr>\n",
       "      <th>0</th>\n",
       "      <td>Subjective Per patient , no bloating or abd di...</td>\n",
       "      <td>Subjective Per patient  no bloating or abd dis...</td>\n",
       "    </tr>\n",
       "    <tr>\n",
       "      <th>1</th>\n",
       "      <td>Potential for nutrition risk. Patient being mo...</td>\n",
       "      <td>Potential for nutrition risk Patient being mon...</td>\n",
       "    </tr>\n",
       "  </tbody>\n",
       "</table>\n",
       "</div>"
      ],
      "text/plain": [
       "                                                TEXT  \\\n",
       "0  Subjective Per patient , no bloating or abd di...   \n",
       "1  Potential for nutrition risk. Patient being mo...   \n",
       "\n",
       "                                        text_cleaned  \n",
       "0  Subjective Per patient  no bloating or abd dis...  \n",
       "1  Potential for nutrition risk Patient being mon...  "
      ]
     },
     "execution_count": 8,
     "metadata": {},
     "output_type": "execute_result"
    }
   ],
   "source": [
    "def remove_newlines(column):\n",
    "    newline_pattern = r'\\n'  \n",
    "    return re.sub(newline_pattern, \"\", column)\n",
    "\n",
    "noteevents_data['text_cleaned'] = noteevents_data['text_cleaned'].apply(remove_newlines)\n",
    "\n",
    "noteevents_data[['TEXT','text_cleaned']].head(2)"
   ]
  },
  {
   "cell_type": "code",
   "execution_count": 9,
   "metadata": {
    "tags": []
   },
   "outputs": [
    {
     "data": {
      "text/html": [
       "<div>\n",
       "<style scoped>\n",
       "    .dataframe tbody tr th:only-of-type {\n",
       "        vertical-align: middle;\n",
       "    }\n",
       "\n",
       "    .dataframe tbody tr th {\n",
       "        vertical-align: top;\n",
       "    }\n",
       "\n",
       "    .dataframe thead th {\n",
       "        text-align: right;\n",
       "    }\n",
       "</style>\n",
       "<table border=\"1\" class=\"dataframe\">\n",
       "  <thead>\n",
       "    <tr style=\"text-align: right;\">\n",
       "      <th></th>\n",
       "      <th>TEXT</th>\n",
       "      <th>text_cleaned</th>\n",
       "    </tr>\n",
       "  </thead>\n",
       "  <tbody>\n",
       "    <tr>\n",
       "      <th>0</th>\n",
       "      <td>Subjective Per patient , no bloating or abd di...</td>\n",
       "      <td>Subjective Per patient  no bloating or abd dis...</td>\n",
       "    </tr>\n",
       "    <tr>\n",
       "      <th>1</th>\n",
       "      <td>Potential for nutrition risk. Patient being mo...</td>\n",
       "      <td>Potential for nutrition risk Patient being mon...</td>\n",
       "    </tr>\n",
       "  </tbody>\n",
       "</table>\n",
       "</div>"
      ],
      "text/plain": [
       "                                                TEXT  \\\n",
       "0  Subjective Per patient , no bloating or abd di...   \n",
       "1  Potential for nutrition risk. Patient being mo...   \n",
       "\n",
       "                                        text_cleaned  \n",
       "0  Subjective Per patient  no bloating or abd dis...  \n",
       "1  Potential for nutrition risk Patient being mon...  "
      ]
     },
     "execution_count": 9,
     "metadata": {},
     "output_type": "execute_result"
    }
   ],
   "source": [
    "def remove_common_words(column):\n",
    "    pattern = r'\\b(?:First Name|Last Name|NamePattern1|firstname|lastname|name|TITLE)\\b'\n",
    "    return re.sub(pattern, \"\", column)\n",
    "\n",
    "noteevents_data['text_cleaned'] = noteevents_data['text_cleaned'].apply(remove_common_words)\n",
    "\n",
    "noteevents_data[['TEXT','text_cleaned']].head(2)"
   ]
  },
  {
   "cell_type": "code",
   "execution_count": 10,
   "metadata": {
    "tags": []
   },
   "outputs": [
    {
     "data": {
      "text/html": [
       "<div>\n",
       "<style scoped>\n",
       "    .dataframe tbody tr th:only-of-type {\n",
       "        vertical-align: middle;\n",
       "    }\n",
       "\n",
       "    .dataframe tbody tr th {\n",
       "        vertical-align: top;\n",
       "    }\n",
       "\n",
       "    .dataframe thead th {\n",
       "        text-align: right;\n",
       "    }\n",
       "</style>\n",
       "<table border=\"1\" class=\"dataframe\">\n",
       "  <thead>\n",
       "    <tr style=\"text-align: right;\">\n",
       "      <th></th>\n",
       "      <th>TEXT</th>\n",
       "      <th>text_cleaned</th>\n",
       "    </tr>\n",
       "  </thead>\n",
       "  <tbody>\n",
       "    <tr>\n",
       "      <th>0</th>\n",
       "      <td>Subjective Per patient , no bloating or abd di...</td>\n",
       "      <td>Subjective Per patient  no bloating or abd dis...</td>\n",
       "    </tr>\n",
       "    <tr>\n",
       "      <th>1</th>\n",
       "      <td>Potential for nutrition risk. Patient being mo...</td>\n",
       "      <td>Potential for nutrition risk Patient being mon...</td>\n",
       "    </tr>\n",
       "  </tbody>\n",
       "</table>\n",
       "</div>"
      ],
      "text/plain": [
       "                                                TEXT  \\\n",
       "0  Subjective Per patient , no bloating or abd di...   \n",
       "1  Potential for nutrition risk. Patient being mo...   \n",
       "\n",
       "                                        text_cleaned  \n",
       "0  Subjective Per patient  no bloating or abd dis...  \n",
       "1  Potential for nutrition risk Patient being mon...  "
      ]
     },
     "execution_count": 10,
     "metadata": {},
     "output_type": "execute_result"
    }
   ],
   "source": [
    "def remove_abbreviation(column):\n",
    "    # Pattern to match 'Dr.' optionally followed by a space\n",
    "    pattern = r'\\bDr\\.\\s?'\n",
    "    return re.sub(pattern, \"\", column)\n",
    "\n",
    "\n",
    "noteevents_data['text_cleaned'] = noteevents_data['text_cleaned'].apply(remove_abbreviation)\n",
    "\n",
    "noteevents_data[['TEXT','text_cleaned']].head(2)"
   ]
  },
  {
   "cell_type": "code",
   "execution_count": null,
   "metadata": {},
   "outputs": [],
   "source": [
    "def remove_stopwords(text, language='english'):\n",
    "\n",
    "    words = re.split(r'\\s+', text)\n",
    "    stop_words = set(stopwords.words(language))\n",
    "    filtered_words = [word for word in words if word.lower() not in stop_words]\n",
    "    filtered_text = ' '.join(filtered_words)\n",
    "    return filtered_text\n",
    "\n",
    "noteevents_data['text_cleaned'] = noteevents_data['text_cleaned'].apply(remove_stopwords)\n",
    "\n",
    "noteevents_data[['TEXT','text_cleaned']].head(2)"
   ]
  },
  {
   "cell_type": "code",
   "execution_count": null,
   "metadata": {},
   "outputs": [],
   "source": [
    "# Load the English language model\n",
    "nlp = spacy.load(\"en_core_web_sm\")\n",
    "\n",
    "def tokenize_text(text):\n",
    "    doc = nlp(text)\n",
    "    #word tokens\n",
    "    words = [token.text for token in doc]\n",
    "    # Sentence tokens\n",
    "    sentences = [sent.text for sent in doc.sents]\n",
    "    return words, sentences\n",
    "\n",
    "# Apply the tokenize_text function and split the results into two columns\n",
    "noteevents_data[['words', 'sentences']] = noteevents_data['text_cleaned'].apply(lambda x: pd.Series(tokenize_text(x)))\n",
    "\n",
    "noteevents_data[['words','sentences']].head(2)"
   ]
  },
  {
   "cell_type": "code",
   "execution_count": null,
   "metadata": {
    "tags": []
   },
   "outputs": [],
   "source": [
    "import pandas as pd\n",
    "with pd.option_context('display.max_colwidth', None):\n",
    "    display(noteevents_data[['TEXT','text_cleaned']].head(5))"
   ]
  },
  {
   "cell_type": "code",
   "execution_count": null,
   "metadata": {},
   "outputs": [],
   "source": []
  }
 ],
 "metadata": {
  "colab": {
   "provenance": []
  },
  "environment": {
   "kernel": "python3",
   "name": "common-gpu.m116",
   "type": "gcloud",
   "uri": "gcr.io/deeplearning-platform-release/base-gpu:m116"
  },
  "kernelspec": {
   "display_name": "Python 3",
   "language": "python",
   "name": "python3"
  },
  "language_info": {
   "codemirror_mode": {
    "name": "ipython",
    "version": 3
   },
   "file_extension": ".py",
   "mimetype": "text/x-python",
   "name": "python",
   "nbconvert_exporter": "python",
   "pygments_lexer": "ipython3",
   "version": "3.10.13"
  }
 },
 "nbformat": 4,
 "nbformat_minor": 4
}
